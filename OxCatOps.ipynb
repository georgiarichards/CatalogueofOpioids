{
 "cells": [
  {
   "cell_type": "markdown",
   "metadata": {},
   "source": [
    "# The Oxford Catalogue of Opioids  "
   ]
  },
  {
   "cell_type": "markdown",
   "metadata": {},
   "source": [
    "#### This notebook visualises the extracted data for the searches and pharmacology data of opioid drugs, more details about this research is available on our OSF project page [here](https://osf.io/2ph6c/). "
   ]
  },
  {
   "cell_type": "code",
   "execution_count": 2,
   "metadata": {},
   "outputs": [],
   "source": [
    "# import libraries required for analysis \n",
    "import numpy as np\n",
    "import pandas as pd\n",
    "from pylab import savefig\n",
    "import seaborn as sns\n",
    "import matplotlib.pyplot as plt\n",
    "%matplotlib inline"
   ]
  },
  {
   "cell_type": "markdown",
   "metadata": {},
   "source": [
    "### Phase 1: The list of opioid drugs and their nomenclature "
   ]
  },
  {
   "cell_type": "code",
   "execution_count": 3,
   "metadata": {},
   "outputs": [],
   "source": [
    "# importing data for phase 1 - the list of opioid drugs \n",
    "df1 = pd.read_csv(\"phase1_oxcatop.csv\",thousands=',')"
   ]
  },
  {
   "cell_type": "code",
   "execution_count": 4,
   "metadata": {},
   "outputs": [
    {
     "data": {
      "text/html": [
       "<div>\n",
       "<style scoped>\n",
       "    .dataframe tbody tr th:only-of-type {\n",
       "        vertical-align: middle;\n",
       "    }\n",
       "\n",
       "    .dataframe tbody tr th {\n",
       "        vertical-align: top;\n",
       "    }\n",
       "\n",
       "    .dataframe thead th {\n",
       "        text-align: right;\n",
       "    }\n",
       "</style>\n",
       "<table border=\"1\" class=\"dataframe\">\n",
       "  <thead>\n",
       "    <tr style=\"text-align: right;\">\n",
       "      <th></th>\n",
       "      <th>index_drug_name</th>\n",
       "      <th>ATC</th>\n",
       "      <th>ATC_code</th>\n",
       "      <th>ATC_cat</th>\n",
       "      <th>BNF</th>\n",
       "      <th>BNF_code</th>\n",
       "      <th>BNF_cat</th>\n",
       "      <th>guide_to_pharmacol</th>\n",
       "      <th>INCB</th>\n",
       "      <th>Merck_index</th>\n",
       "      <th>Martindale</th>\n",
       "      <th>INN</th>\n",
       "      <th>INN_name</th>\n",
       "      <th>BAN</th>\n",
       "      <th>USAN</th>\n",
       "      <th>who_stem</th>\n",
       "      <th>IUPAC_name</th>\n",
       "    </tr>\n",
       "  </thead>\n",
       "  <tbody>\n",
       "    <tr>\n",
       "      <th>0</th>\n",
       "      <td>3-methylfentanyl</td>\n",
       "      <td>0</td>\n",
       "      <td>NaN</td>\n",
       "      <td>NaN</td>\n",
       "      <td>0</td>\n",
       "      <td>NaN</td>\n",
       "      <td>NaN</td>\n",
       "      <td>0</td>\n",
       "      <td>1</td>\n",
       "      <td>0</td>\n",
       "      <td>0</td>\n",
       "      <td>0</td>\n",
       "      <td>NaN</td>\n",
       "      <td>NaN</td>\n",
       "      <td>NaN</td>\n",
       "      <td>-fentanil</td>\n",
       "      <td>N-[3-methyl-1-(2-phenylethyl)piperidin-4-yl]-N...</td>\n",
       "    </tr>\n",
       "    <tr>\n",
       "      <th>1</th>\n",
       "      <td>3-methylthiofentanyl</td>\n",
       "      <td>0</td>\n",
       "      <td>NaN</td>\n",
       "      <td>NaN</td>\n",
       "      <td>0</td>\n",
       "      <td>NaN</td>\n",
       "      <td>NaN</td>\n",
       "      <td>0</td>\n",
       "      <td>1</td>\n",
       "      <td>0</td>\n",
       "      <td>0</td>\n",
       "      <td>0</td>\n",
       "      <td>NaN</td>\n",
       "      <td>NaN</td>\n",
       "      <td>NaN</td>\n",
       "      <td>-fentanil</td>\n",
       "      <td>N-[3-methyl-1-(2-thiophen-2-ylethyl)piperidin-...</td>\n",
       "    </tr>\n",
       "    <tr>\n",
       "      <th>2</th>\n",
       "      <td>4-chloroisobutyrfentanyl</td>\n",
       "      <td>0</td>\n",
       "      <td>NaN</td>\n",
       "      <td>NaN</td>\n",
       "      <td>0</td>\n",
       "      <td>NaN</td>\n",
       "      <td>NaN</td>\n",
       "      <td>0</td>\n",
       "      <td>0</td>\n",
       "      <td>0</td>\n",
       "      <td>0</td>\n",
       "      <td>0</td>\n",
       "      <td>NaN</td>\n",
       "      <td>NaN</td>\n",
       "      <td>NaN</td>\n",
       "      <td>-fentanil</td>\n",
       "      <td>2-Methyl-N-(4-chlorophenyl)-N-[1-(1-phenylprop...</td>\n",
       "    </tr>\n",
       "    <tr>\n",
       "      <th>3</th>\n",
       "      <td>4-fluoroisobutyrfentanyl</td>\n",
       "      <td>0</td>\n",
       "      <td>NaN</td>\n",
       "      <td>NaN</td>\n",
       "      <td>0</td>\n",
       "      <td>NaN</td>\n",
       "      <td>NaN</td>\n",
       "      <td>0</td>\n",
       "      <td>1</td>\n",
       "      <td>0</td>\n",
       "      <td>0</td>\n",
       "      <td>0</td>\n",
       "      <td>NaN</td>\n",
       "      <td>NaN</td>\n",
       "      <td>NaN</td>\n",
       "      <td>-fentanil</td>\n",
       "      <td>N-(4-Fluorophenyl)-N-[1-(2-phenylethyl)-4-pipe...</td>\n",
       "    </tr>\n",
       "    <tr>\n",
       "      <th>4</th>\n",
       "      <td>4-phenylfentanyl</td>\n",
       "      <td>0</td>\n",
       "      <td>NaN</td>\n",
       "      <td>NaN</td>\n",
       "      <td>0</td>\n",
       "      <td>NaN</td>\n",
       "      <td>NaN</td>\n",
       "      <td>0</td>\n",
       "      <td>0</td>\n",
       "      <td>0</td>\n",
       "      <td>0</td>\n",
       "      <td>0</td>\n",
       "      <td>NaN</td>\n",
       "      <td>NaN</td>\n",
       "      <td>NaN</td>\n",
       "      <td>-fentanil</td>\n",
       "      <td>N-Phenyl-N-[4-phenyl-1-(2-phenylethyl)piperidi...</td>\n",
       "    </tr>\n",
       "  </tbody>\n",
       "</table>\n",
       "</div>"
      ],
      "text/plain": [
       "            index_drug_name  ATC ATC_code ATC_cat  BNF BNF_code BNF_cat  \\\n",
       "0          3-methylfentanyl    0      NaN     NaN    0      NaN     NaN   \n",
       "1      3-methylthiofentanyl    0      NaN     NaN    0      NaN     NaN   \n",
       "2  4-chloroisobutyrfentanyl    0      NaN     NaN    0      NaN     NaN   \n",
       "3  4-fluoroisobutyrfentanyl    0      NaN     NaN    0      NaN     NaN   \n",
       "4          4-phenylfentanyl    0      NaN     NaN    0      NaN     NaN   \n",
       "\n",
       "   guide_to_pharmacol  INCB  Merck_index  Martindale  INN INN_name  BAN USAN  \\\n",
       "0                   0     1            0           0    0      NaN  NaN  NaN   \n",
       "1                   0     1            0           0    0      NaN  NaN  NaN   \n",
       "2                   0     0            0           0    0      NaN  NaN  NaN   \n",
       "3                   0     1            0           0    0      NaN  NaN  NaN   \n",
       "4                   0     0            0           0    0      NaN  NaN  NaN   \n",
       "\n",
       "    who_stem                                         IUPAC_name  \n",
       "0  -fentanil  N-[3-methyl-1-(2-phenylethyl)piperidin-4-yl]-N...  \n",
       "1  -fentanil  N-[3-methyl-1-(2-thiophen-2-ylethyl)piperidin-...  \n",
       "2  -fentanil  2-Methyl-N-(4-chlorophenyl)-N-[1-(1-phenylprop...  \n",
       "3  -fentanil  N-(4-Fluorophenyl)-N-[1-(2-phenylethyl)-4-pipe...  \n",
       "4  -fentanil  N-Phenyl-N-[4-phenyl-1-(2-phenylethyl)piperidi...  "
      ]
     },
     "execution_count": 4,
     "metadata": {},
     "output_type": "execute_result"
    }
   ],
   "source": [
    "df1.head()"
   ]
  },
  {
   "cell_type": "code",
   "execution_count": 5,
   "metadata": {
    "scrolled": true
   },
   "outputs": [
    {
     "data": {
      "text/plain": [
       "index_drug_name       3-methylfentanyl3-methylthiofentanyl4-chlorois...\n",
       "ATC                                                                  57\n",
       "BNF                                                                  31\n",
       "guide_to_pharmacol                                                   65\n",
       "INCB                                                                120\n",
       "Merck_index                                                         110\n",
       "Martindale                                                           68\n",
       "INN                                                                 170\n",
       "IUPAC_name            N-[3-methyl-1-(2-phenylethyl)piperidin-4-yl]-N...\n",
       "dtype: object"
      ]
     },
     "execution_count": 5,
     "metadata": {},
     "output_type": "execute_result"
    }
   ],
   "source": [
    "df1.sum()"
   ]
  },
  {
   "cell_type": "code",
   "execution_count": 6,
   "metadata": {},
   "outputs": [
    {
     "data": {
      "text/plain": [
       "621"
      ]
     },
     "execution_count": 6,
     "metadata": {},
     "output_type": "execute_result"
    }
   ],
   "source": [
    "# total number of opioids from searches\n",
    "57+31+65+120+110+68+170"
   ]
  },
  {
   "cell_type": "code",
   "execution_count": 21,
   "metadata": {},
   "outputs": [
    {
     "data": {
      "text/plain": [
       "189"
      ]
     },
     "execution_count": 21,
     "metadata": {},
     "output_type": "execute_result"
    }
   ],
   "source": [
    "# removing duplicates \n",
    "621-432"
   ]
  },
  {
   "cell_type": "code",
   "execution_count": 22,
   "metadata": {},
   "outputs": [
    {
     "data": {
      "text/plain": [
       "233"
      ]
     },
     "execution_count": 22,
     "metadata": {},
     "output_type": "execute_result"
    }
   ],
   "source": [
    "# new drugs found from the literature & wikipedia \n",
    "189+42+2"
   ]
  },
  {
   "cell_type": "code",
   "execution_count": 9,
   "metadata": {},
   "outputs": [
    {
     "data": {
      "text/plain": [
       "1    72.961373\n",
       "0    27.038627\n",
       "Name: INN, dtype: float64"
      ]
     },
     "execution_count": 9,
     "metadata": {},
     "output_type": "execute_result"
    }
   ],
   "source": [
    "# percentage of drugs in each drug source\n",
    "(df1['INN'].value_counts()/df1['INN'].count())*100"
   ]
  },
  {
   "cell_type": "code",
   "execution_count": 10,
   "metadata": {},
   "outputs": [
    {
     "data": {
      "text/plain": [
       "1    51.502146\n",
       "0    48.497854\n",
       "Name: INCB, dtype: float64"
      ]
     },
     "execution_count": 10,
     "metadata": {},
     "output_type": "execute_result"
    }
   ],
   "source": [
    "(df1['INCB'].value_counts()/df1['INCB'].count())*100"
   ]
  },
  {
   "cell_type": "code",
   "execution_count": 11,
   "metadata": {},
   "outputs": [
    {
     "data": {
      "text/plain": [
       "0    52.7897\n",
       "1    47.2103\n",
       "Name: Merck_index, dtype: float64"
      ]
     },
     "execution_count": 11,
     "metadata": {},
     "output_type": "execute_result"
    }
   ],
   "source": [
    "(df1['Merck_index'].value_counts()/df1['Merck_index'].count())*100"
   ]
  },
  {
   "cell_type": "code",
   "execution_count": 13,
   "metadata": {},
   "outputs": [
    {
     "data": {
      "text/plain": [
       "0    70.815451\n",
       "1    29.184549\n",
       "Name: Martindale, dtype: float64"
      ]
     },
     "execution_count": 13,
     "metadata": {},
     "output_type": "execute_result"
    }
   ],
   "source": [
    "(df1['Martindale'].value_counts()/df1['Martindale'].count())*100"
   ]
  },
  {
   "cell_type": "code",
   "execution_count": 14,
   "metadata": {},
   "outputs": [
    {
     "data": {
      "text/plain": [
       "0    72.103004\n",
       "1    27.896996\n",
       "Name: guide_to_pharmacol, dtype: float64"
      ]
     },
     "execution_count": 14,
     "metadata": {},
     "output_type": "execute_result"
    }
   ],
   "source": [
    "(df1['guide_to_pharmacol'].value_counts()/df1['guide_to_pharmacol'].count())*100"
   ]
  },
  {
   "cell_type": "code",
   "execution_count": 15,
   "metadata": {},
   "outputs": [
    {
     "data": {
      "text/plain": [
       "0    75.536481\n",
       "1    24.463519\n",
       "Name: ATC, dtype: float64"
      ]
     },
     "execution_count": 15,
     "metadata": {},
     "output_type": "execute_result"
    }
   ],
   "source": [
    "(df1['ATC'].value_counts()/df1['ATC'].count())*100"
   ]
  },
  {
   "cell_type": "code",
   "execution_count": 16,
   "metadata": {},
   "outputs": [
    {
     "data": {
      "text/plain": [
       "0    86.695279\n",
       "1    13.304721\n",
       "Name: BNF, dtype: float64"
      ]
     },
     "execution_count": 16,
     "metadata": {},
     "output_type": "execute_result"
    }
   ],
   "source": [
    "(df1['BNF'].value_counts()/df1['BNF'].count())*100"
   ]
  },
  {
   "cell_type": "code",
   "execution_count": 17,
   "metadata": {},
   "outputs": [],
   "source": [
    "# creating a new variable to sum the 7 data sources \n",
    "df1['sources'] = df1['ATC'] + df1['BNF'] + df1['guide_to_pharmacol'] + df1['INCB'] + df1['Merck_index'] + df1['Martindale'] + df1['INN']"
   ]
  },
  {
   "cell_type": "code",
   "execution_count": 18,
   "metadata": {},
   "outputs": [
    {
     "data": {
      "text/html": [
       "<div>\n",
       "<style scoped>\n",
       "    .dataframe tbody tr th:only-of-type {\n",
       "        vertical-align: middle;\n",
       "    }\n",
       "\n",
       "    .dataframe tbody tr th {\n",
       "        vertical-align: top;\n",
       "    }\n",
       "\n",
       "    .dataframe thead th {\n",
       "        text-align: right;\n",
       "    }\n",
       "</style>\n",
       "<table border=\"1\" class=\"dataframe\">\n",
       "  <thead>\n",
       "    <tr style=\"text-align: right;\">\n",
       "      <th></th>\n",
       "      <th>ATC</th>\n",
       "      <th>BNF</th>\n",
       "      <th>guide_to_pharmacol</th>\n",
       "      <th>INCB</th>\n",
       "      <th>Merck_index</th>\n",
       "      <th>Martindale</th>\n",
       "      <th>INN</th>\n",
       "      <th>sources</th>\n",
       "    </tr>\n",
       "  </thead>\n",
       "  <tbody>\n",
       "    <tr>\n",
       "      <th>count</th>\n",
       "      <td>233.000000</td>\n",
       "      <td>233.000000</td>\n",
       "      <td>233.000000</td>\n",
       "      <td>233.000000</td>\n",
       "      <td>233.000000</td>\n",
       "      <td>233.000000</td>\n",
       "      <td>233.000000</td>\n",
       "      <td>233.000000</td>\n",
       "    </tr>\n",
       "    <tr>\n",
       "      <th>mean</th>\n",
       "      <td>0.244635</td>\n",
       "      <td>0.133047</td>\n",
       "      <td>0.278970</td>\n",
       "      <td>0.515021</td>\n",
       "      <td>0.472103</td>\n",
       "      <td>0.291845</td>\n",
       "      <td>0.729614</td>\n",
       "      <td>2.665236</td>\n",
       "    </tr>\n",
       "    <tr>\n",
       "      <th>std</th>\n",
       "      <td>0.430796</td>\n",
       "      <td>0.340357</td>\n",
       "      <td>0.449458</td>\n",
       "      <td>0.500850</td>\n",
       "      <td>0.500296</td>\n",
       "      <td>0.455590</td>\n",
       "      <td>0.445116</td>\n",
       "      <td>1.969474</td>\n",
       "    </tr>\n",
       "    <tr>\n",
       "      <th>min</th>\n",
       "      <td>0.000000</td>\n",
       "      <td>0.000000</td>\n",
       "      <td>0.000000</td>\n",
       "      <td>0.000000</td>\n",
       "      <td>0.000000</td>\n",
       "      <td>0.000000</td>\n",
       "      <td>0.000000</td>\n",
       "      <td>0.000000</td>\n",
       "    </tr>\n",
       "    <tr>\n",
       "      <th>25%</th>\n",
       "      <td>0.000000</td>\n",
       "      <td>0.000000</td>\n",
       "      <td>0.000000</td>\n",
       "      <td>0.000000</td>\n",
       "      <td>0.000000</td>\n",
       "      <td>0.000000</td>\n",
       "      <td>0.000000</td>\n",
       "      <td>1.000000</td>\n",
       "    </tr>\n",
       "    <tr>\n",
       "      <th>50%</th>\n",
       "      <td>0.000000</td>\n",
       "      <td>0.000000</td>\n",
       "      <td>0.000000</td>\n",
       "      <td>1.000000</td>\n",
       "      <td>0.000000</td>\n",
       "      <td>0.000000</td>\n",
       "      <td>1.000000</td>\n",
       "      <td>2.000000</td>\n",
       "    </tr>\n",
       "    <tr>\n",
       "      <th>75%</th>\n",
       "      <td>0.000000</td>\n",
       "      <td>0.000000</td>\n",
       "      <td>1.000000</td>\n",
       "      <td>1.000000</td>\n",
       "      <td>1.000000</td>\n",
       "      <td>1.000000</td>\n",
       "      <td>1.000000</td>\n",
       "      <td>4.000000</td>\n",
       "    </tr>\n",
       "    <tr>\n",
       "      <th>max</th>\n",
       "      <td>1.000000</td>\n",
       "      <td>1.000000</td>\n",
       "      <td>1.000000</td>\n",
       "      <td>1.000000</td>\n",
       "      <td>1.000000</td>\n",
       "      <td>1.000000</td>\n",
       "      <td>1.000000</td>\n",
       "      <td>7.000000</td>\n",
       "    </tr>\n",
       "  </tbody>\n",
       "</table>\n",
       "</div>"
      ],
      "text/plain": [
       "              ATC         BNF  guide_to_pharmacol        INCB  Merck_index  \\\n",
       "count  233.000000  233.000000          233.000000  233.000000   233.000000   \n",
       "mean     0.244635    0.133047            0.278970    0.515021     0.472103   \n",
       "std      0.430796    0.340357            0.449458    0.500850     0.500296   \n",
       "min      0.000000    0.000000            0.000000    0.000000     0.000000   \n",
       "25%      0.000000    0.000000            0.000000    0.000000     0.000000   \n",
       "50%      0.000000    0.000000            0.000000    1.000000     0.000000   \n",
       "75%      0.000000    0.000000            1.000000    1.000000     1.000000   \n",
       "max      1.000000    1.000000            1.000000    1.000000     1.000000   \n",
       "\n",
       "       Martindale         INN     sources  \n",
       "count  233.000000  233.000000  233.000000  \n",
       "mean     0.291845    0.729614    2.665236  \n",
       "std      0.455590    0.445116    1.969474  \n",
       "min      0.000000    0.000000    0.000000  \n",
       "25%      0.000000    0.000000    1.000000  \n",
       "50%      0.000000    1.000000    2.000000  \n",
       "75%      1.000000    1.000000    4.000000  \n",
       "max      1.000000    1.000000    7.000000  "
      ]
     },
     "execution_count": 18,
     "metadata": {},
     "output_type": "execute_result"
    }
   ],
   "source": [
    "df1.describe()"
   ]
  },
  {
   "cell_type": "code",
   "execution_count": 23,
   "metadata": {
    "scrolled": true
   },
   "outputs": [
    {
     "data": {
      "image/png": "[encoded data removed]",
      "text/plain": [
       "<Figure size 432x288 with 1 Axes>"
      ]
     },
     "metadata": {
      "needs_background": "light"
     },
     "output_type": "display_data"
    }
   ],
   "source": [
    "# visualising the spread of data to check the median is the best measure\n",
    "ax = sns.countplot(data=df1, x=\"sources\", color=\"navy\")"
   ]
  },
  {
   "cell_type": "code",
   "execution_count": 24,
   "metadata": {},
   "outputs": [
    {
     "data": {
      "text/html": [
       "<div>\n",
       "<style scoped>\n",
       "    .dataframe tbody tr th:only-of-type {\n",
       "        vertical-align: middle;\n",
       "    }\n",
       "\n",
       "    .dataframe tbody tr th {\n",
       "        vertical-align: top;\n",
       "    }\n",
       "\n",
       "    .dataframe thead th {\n",
       "        text-align: right;\n",
       "    }\n",
       "</style>\n",
       "<table border=\"1\" class=\"dataframe\">\n",
       "  <thead>\n",
       "    <tr style=\"text-align: right;\">\n",
       "      <th></th>\n",
       "      <th>databases</th>\n",
       "      <th>opioids</th>\n",
       "    </tr>\n",
       "  </thead>\n",
       "  <tbody>\n",
       "    <tr>\n",
       "      <th>0</th>\n",
       "      <td>INN</td>\n",
       "      <td>170</td>\n",
       "    </tr>\n",
       "    <tr>\n",
       "      <th>1</th>\n",
       "      <td>INCB</td>\n",
       "      <td>120</td>\n",
       "    </tr>\n",
       "    <tr>\n",
       "      <th>2</th>\n",
       "      <td>Merck</td>\n",
       "      <td>110</td>\n",
       "    </tr>\n",
       "    <tr>\n",
       "      <th>3</th>\n",
       "      <td>Martindale</td>\n",
       "      <td>68</td>\n",
       "    </tr>\n",
       "    <tr>\n",
       "      <th>4</th>\n",
       "      <td>Guide to Pharmacology</td>\n",
       "      <td>65</td>\n",
       "    </tr>\n",
       "  </tbody>\n",
       "</table>\n",
       "</div>"
      ],
      "text/plain": [
       "                databases  opioids\n",
       "0                     INN      170\n",
       "1                    INCB      120\n",
       "2                  Merck       110\n",
       "3              Martindale       68\n",
       "4  Guide to Pharmacology        65"
      ]
     },
     "execution_count": 24,
     "metadata": {},
     "output_type": "execute_result"
    }
   ],
   "source": [
    "# importing new dataframe for figure of seven data sources \n",
    "df2 = pd.read_csv(\"oxcat_databases.csv\",thousands=',')\n",
    "df2.head()"
   ]
  },
  {
   "cell_type": "code",
   "execution_count": 25,
   "metadata": {},
   "outputs": [
    {
     "data": {
      "text/html": [
       "<div>\n",
       "<style scoped>\n",
       "    .dataframe tbody tr th:only-of-type {\n",
       "        vertical-align: middle;\n",
       "    }\n",
       "\n",
       "    .dataframe tbody tr th {\n",
       "        vertical-align: top;\n",
       "    }\n",
       "\n",
       "    .dataframe thead th {\n",
       "        text-align: right;\n",
       "    }\n",
       "</style>\n",
       "<table border=\"1\" class=\"dataframe\">\n",
       "  <thead>\n",
       "    <tr style=\"text-align: right;\">\n",
       "      <th></th>\n",
       "      <th>opioids</th>\n",
       "    </tr>\n",
       "  </thead>\n",
       "  <tbody>\n",
       "    <tr>\n",
       "      <th>count</th>\n",
       "      <td>7.000000</td>\n",
       "    </tr>\n",
       "    <tr>\n",
       "      <th>mean</th>\n",
       "      <td>88.714286</td>\n",
       "    </tr>\n",
       "    <tr>\n",
       "      <th>std</th>\n",
       "      <td>47.200686</td>\n",
       "    </tr>\n",
       "    <tr>\n",
       "      <th>min</th>\n",
       "      <td>31.000000</td>\n",
       "    </tr>\n",
       "    <tr>\n",
       "      <th>25%</th>\n",
       "      <td>61.000000</td>\n",
       "    </tr>\n",
       "    <tr>\n",
       "      <th>50%</th>\n",
       "      <td>68.000000</td>\n",
       "    </tr>\n",
       "    <tr>\n",
       "      <th>75%</th>\n",
       "      <td>115.000000</td>\n",
       "    </tr>\n",
       "    <tr>\n",
       "      <th>max</th>\n",
       "      <td>170.000000</td>\n",
       "    </tr>\n",
       "  </tbody>\n",
       "</table>\n",
       "</div>"
      ],
      "text/plain": [
       "          opioids\n",
       "count    7.000000\n",
       "mean    88.714286\n",
       "std     47.200686\n",
       "min     31.000000\n",
       "25%     61.000000\n",
       "50%     68.000000\n",
       "75%    115.000000\n",
       "max    170.000000"
      ]
     },
     "execution_count": 25,
     "metadata": {},
     "output_type": "execute_result"
    }
   ],
   "source": [
    "df2.describe()"
   ]
  },
  {
   "cell_type": "code",
   "execution_count": 28,
   "metadata": {},
   "outputs": [
    {
     "data": {
      "image/png": "[encoded data removed]",
      "text/plain": [
       "<Figure size 864x576 with 1 Axes>"
      ]
     },
     "metadata": {
      "needs_background": "light"
     },
     "output_type": "display_data"
    }
   ],
   "source": [
    "# ploting data as a bar graph using seaborn\n",
    "plt.figure(figsize=(12,8))\n",
    "ax = sns.barplot(data=df2, x=\"databases\", y=\"opioids\", color=\"navy\")\n",
    "plt.xlabel(' ')\n",
    "plt.ylabel('No. of opioids in sources searched', fontsize=16)\n",
    "\n",
    "plt.savefig(\"databases.png\", dpi=600)"
   ]
  },
  {
   "cell_type": "code",
   "execution_count": 29,
   "metadata": {
    "scrolled": true
   },
   "outputs": [
    {
     "data": {
      "text/plain": [
       "10"
      ]
     },
     "execution_count": 29,
     "metadata": {},
     "output_type": "execute_result"
    }
   ],
   "source": [
    "# determining the number of unique stems\n",
    "df1['who_stem'].nunique()"
   ]
  },
  {
   "cell_type": "code",
   "execution_count": 30,
   "metadata": {},
   "outputs": [
    {
     "data": {
      "text/plain": [
       "-fentanil    48\n",
       "-orphine     33\n",
       "-adol        25\n",
       "-eridine     21\n",
       "-azocine     19\n",
       "-orphan      14\n",
       "nal-         12\n",
       "-orphone      7\n",
       "-ethidine     3\n",
       "-orphinol     1\n",
       "Name: who_stem, dtype: int64"
      ]
     },
     "execution_count": 30,
     "metadata": {},
     "output_type": "execute_result"
    }
   ],
   "source": [
    "# the breakdown of the number of drugs in each stems subgroup \n",
    "df1['who_stem'].value_counts()"
   ]
  },
  {
   "cell_type": "code",
   "execution_count": 31,
   "metadata": {},
   "outputs": [
    {
     "data": {
      "text/plain": [
       "-fentanil    26.229508\n",
       "-orphine     18.032787\n",
       "-adol        13.661202\n",
       "-eridine     11.475410\n",
       "-azocine     10.382514\n",
       "-orphan       7.650273\n",
       "nal-          6.557377\n",
       "-orphone      3.825137\n",
       "-ethidine     1.639344\n",
       "-orphinol     0.546448\n",
       "Name: who_stem, dtype: float64"
      ]
     },
     "execution_count": 31,
     "metadata": {},
     "output_type": "execute_result"
    }
   ],
   "source": [
    "# the percentage of drugs in each stem subgroup \n",
    "(df1['who_stem'].value_counts()/df1['who_stem'].count())*100"
   ]
  },
  {
   "cell_type": "code",
   "execution_count": 32,
   "metadata": {},
   "outputs": [
    {
     "data": {
      "text/plain": [
       "50"
      ]
     },
     "execution_count": 32,
     "metadata": {},
     "output_type": "execute_result"
    }
   ],
   "source": [
    "# number of drugs with no stem \n",
    "len(df1) - df1['who_stem'].count()"
   ]
  },
  {
   "cell_type": "code",
   "execution_count": 33,
   "metadata": {},
   "outputs": [
    {
     "data": {
      "text/plain": [
       "21.45922746781116"
      ]
     },
     "execution_count": 33,
     "metadata": {},
     "output_type": "execute_result"
    }
   ],
   "source": [
    "(50/233)*100"
   ]
  },
  {
   "cell_type": "code",
   "execution_count": 35,
   "metadata": {},
   "outputs": [
    {
     "data": {
      "image/png": "[encoded data removed]",
      "text/plain": [
       "<Figure size 1080x720 with 1 Axes>"
      ]
     },
     "metadata": {
      "needs_background": "light"
     },
     "output_type": "display_data"
    }
   ],
   "source": [
    "# plotting the number of stems using seaborn\n",
    "plt.figure(figsize=(15,10))\n",
    "ax = sns.countplot(data=df1, \n",
    "                   x=\"who_stem\", \n",
    "                   color=\"navy\",\n",
    "                   order=df1['who_stem'].value_counts().index)\n",
    "plt.xlabel(' ')\n",
    "plt.ylabel('Number of drugs', fontsize=16)\n",
    "\n",
    "plt.savefig(\"fig_stem.png\", dpi=600)"
   ]
  },
  {
   "cell_type": "markdown",
   "metadata": {},
   "source": [
    "### Phase 2: Cataloging of opioids by pharmacology properties   "
   ]
  },
  {
   "cell_type": "code",
   "execution_count": 36,
   "metadata": {},
   "outputs": [],
   "source": [
    "# importing data for phase 2 - pharmacology data \n",
    "df3 = pd.read_csv(\"phase2_oxcatop.csv\",thousands=',')"
   ]
  },
  {
   "cell_type": "code",
   "execution_count": 37,
   "metadata": {},
   "outputs": [
    {
     "data": {
      "text/html": [
       "<div>\n",
       "<style scoped>\n",
       "    .dataframe tbody tr th:only-of-type {\n",
       "        vertical-align: middle;\n",
       "    }\n",
       "\n",
       "    .dataframe tbody tr th {\n",
       "        vertical-align: top;\n",
       "    }\n",
       "\n",
       "    .dataframe thead th {\n",
       "        text-align: right;\n",
       "    }\n",
       "</style>\n",
       "<table border=\"1\" class=\"dataframe\">\n",
       "  <thead>\n",
       "    <tr style=\"text-align: right;\">\n",
       "      <th></th>\n",
       "      <th>index_drug_name</th>\n",
       "      <th>molecular_formula</th>\n",
       "      <th>mole_weight_g_mol​</th>\n",
       "      <th>MOP</th>\n",
       "      <th>effect_MOP</th>\n",
       "      <th>DOP</th>\n",
       "      <th>effect_DOP</th>\n",
       "      <th>KOP</th>\n",
       "      <th>effect_KOP</th>\n",
       "      <th>NOP</th>\n",
       "      <th>effect_NOP</th>\n",
       "      <th>class</th>\n",
       "    </tr>\n",
       "  </thead>\n",
       "  <tbody>\n",
       "    <tr>\n",
       "      <th>0</th>\n",
       "      <td>3-methylfentanyl</td>\n",
       "      <td>C23H30N2O</td>\n",
       "      <td>350.50</td>\n",
       "      <td>1.0</td>\n",
       "      <td>agonist</td>\n",
       "      <td>1.0</td>\n",
       "      <td>agonist</td>\n",
       "      <td>1.0</td>\n",
       "      <td>agonist</td>\n",
       "      <td>0.0</td>\n",
       "      <td>NaN</td>\n",
       "      <td>synthetic</td>\n",
       "    </tr>\n",
       "    <tr>\n",
       "      <th>1</th>\n",
       "      <td>3-methylthiofentanyl</td>\n",
       "      <td>C21H28N2OS</td>\n",
       "      <td>356.50</td>\n",
       "      <td>1.0</td>\n",
       "      <td>agonist</td>\n",
       "      <td>1.0</td>\n",
       "      <td>agonist</td>\n",
       "      <td>1.0</td>\n",
       "      <td>agonist</td>\n",
       "      <td>0.0</td>\n",
       "      <td>NaN</td>\n",
       "      <td>synthetic</td>\n",
       "    </tr>\n",
       "    <tr>\n",
       "      <th>2</th>\n",
       "      <td>4-chloroisobutyrfentanyl</td>\n",
       "      <td>C23H29ClN2O</td>\n",
       "      <td>384.95</td>\n",
       "      <td>NaN</td>\n",
       "      <td>NaN</td>\n",
       "      <td>NaN</td>\n",
       "      <td>NaN</td>\n",
       "      <td>NaN</td>\n",
       "      <td>NaN</td>\n",
       "      <td>NaN</td>\n",
       "      <td>NaN</td>\n",
       "      <td>synthetic</td>\n",
       "    </tr>\n",
       "    <tr>\n",
       "      <th>3</th>\n",
       "      <td>4-fluoroisobutyrfentanyl</td>\n",
       "      <td>C23H29FN2O</td>\n",
       "      <td>368.50</td>\n",
       "      <td>1.0</td>\n",
       "      <td>agonist</td>\n",
       "      <td>NaN</td>\n",
       "      <td>NaN</td>\n",
       "      <td>NaN</td>\n",
       "      <td>NaN</td>\n",
       "      <td>NaN</td>\n",
       "      <td>NaN</td>\n",
       "      <td>synthetic</td>\n",
       "    </tr>\n",
       "    <tr>\n",
       "      <th>4</th>\n",
       "      <td>4-phenylfentanyl</td>\n",
       "      <td>\\tC28H32N2O</td>\n",
       "      <td>412.60</td>\n",
       "      <td>NaN</td>\n",
       "      <td>NaN</td>\n",
       "      <td>NaN</td>\n",
       "      <td>NaN</td>\n",
       "      <td>NaN</td>\n",
       "      <td>NaN</td>\n",
       "      <td>NaN</td>\n",
       "      <td>NaN</td>\n",
       "      <td>synthetic</td>\n",
       "    </tr>\n",
       "  </tbody>\n",
       "</table>\n",
       "</div>"
      ],
      "text/plain": [
       "            index_drug_name molecular_formula  mole_weight_g_mol​  MOP  \\\n",
       "0          3-methylfentanyl        C23H30N2O               350.50  1.0   \n",
       "1      3-methylthiofentanyl        C21H28N2OS              356.50  1.0   \n",
       "2  4-chloroisobutyrfentanyl       C23H29ClN2O              384.95  NaN   \n",
       "3  4-fluoroisobutyrfentanyl        C23H29FN2O              368.50  1.0   \n",
       "4          4-phenylfentanyl       \\tC28H32N2O              412.60  NaN   \n",
       "\n",
       "  effect_MOP  DOP effect_DOP  KOP effect_KOP  NOP effect_NOP      class  \n",
       "0    agonist  1.0    agonist  1.0    agonist  0.0        NaN  synthetic  \n",
       "1    agonist  1.0    agonist  1.0    agonist  0.0        NaN  synthetic  \n",
       "2        NaN  NaN        NaN  NaN        NaN  NaN        NaN  synthetic  \n",
       "3    agonist  NaN        NaN  NaN        NaN  NaN        NaN  synthetic  \n",
       "4        NaN  NaN        NaN  NaN        NaN  NaN        NaN  synthetic  "
      ]
     },
     "execution_count": 37,
     "metadata": {},
     "output_type": "execute_result"
    }
   ],
   "source": [
    "df3.head()"
   ]
  },
  {
   "cell_type": "code",
   "execution_count": 38,
   "metadata": {},
   "outputs": [
    {
     "data": {
      "text/html": [
       "<div>\n",
       "<style scoped>\n",
       "    .dataframe tbody tr th:only-of-type {\n",
       "        vertical-align: middle;\n",
       "    }\n",
       "\n",
       "    .dataframe tbody tr th {\n",
       "        vertical-align: top;\n",
       "    }\n",
       "\n",
       "    .dataframe thead th {\n",
       "        text-align: right;\n",
       "    }\n",
       "</style>\n",
       "<table border=\"1\" class=\"dataframe\">\n",
       "  <thead>\n",
       "    <tr style=\"text-align: right;\">\n",
       "      <th></th>\n",
       "      <th>mole_weight_g_mol​</th>\n",
       "      <th>MOP</th>\n",
       "      <th>DOP</th>\n",
       "      <th>KOP</th>\n",
       "      <th>NOP</th>\n",
       "    </tr>\n",
       "  </thead>\n",
       "  <tbody>\n",
       "    <tr>\n",
       "      <th>count</th>\n",
       "      <td>233.000000</td>\n",
       "      <td>140.000000</td>\n",
       "      <td>84.000000</td>\n",
       "      <td>84.000000</td>\n",
       "      <td>10.000000</td>\n",
       "    </tr>\n",
       "    <tr>\n",
       "      <th>mean</th>\n",
       "      <td>355.127554</td>\n",
       "      <td>0.950000</td>\n",
       "      <td>0.714286</td>\n",
       "      <td>0.833333</td>\n",
       "      <td>0.400000</td>\n",
       "    </tr>\n",
       "    <tr>\n",
       "      <th>std</th>\n",
       "      <td>91.661892</td>\n",
       "      <td>0.218728</td>\n",
       "      <td>0.454467</td>\n",
       "      <td>0.374916</td>\n",
       "      <td>0.516398</td>\n",
       "    </tr>\n",
       "    <tr>\n",
       "      <th>min</th>\n",
       "      <td>221.340000</td>\n",
       "      <td>0.000000</td>\n",
       "      <td>0.000000</td>\n",
       "      <td>0.000000</td>\n",
       "      <td>0.000000</td>\n",
       "    </tr>\n",
       "    <tr>\n",
       "      <th>25%</th>\n",
       "      <td>299.400000</td>\n",
       "      <td>1.000000</td>\n",
       "      <td>0.000000</td>\n",
       "      <td>1.000000</td>\n",
       "      <td>0.000000</td>\n",
       "    </tr>\n",
       "    <tr>\n",
       "      <th>50%</th>\n",
       "      <td>347.500000</td>\n",
       "      <td>1.000000</td>\n",
       "      <td>1.000000</td>\n",
       "      <td>1.000000</td>\n",
       "      <td>0.000000</td>\n",
       "    </tr>\n",
       "    <tr>\n",
       "      <th>75%</th>\n",
       "      <td>392.500000</td>\n",
       "      <td>1.000000</td>\n",
       "      <td>1.000000</td>\n",
       "      <td>1.000000</td>\n",
       "      <td>1.000000</td>\n",
       "    </tr>\n",
       "    <tr>\n",
       "      <th>max</th>\n",
       "      <td>960.500000</td>\n",
       "      <td>1.000000</td>\n",
       "      <td>1.000000</td>\n",
       "      <td>1.000000</td>\n",
       "      <td>1.000000</td>\n",
       "    </tr>\n",
       "  </tbody>\n",
       "</table>\n",
       "</div>"
      ],
      "text/plain": [
       "       mole_weight_g_mol​         MOP        DOP        KOP        NOP\n",
       "count          233.000000  140.000000  84.000000  84.000000  10.000000\n",
       "mean           355.127554    0.950000   0.714286   0.833333   0.400000\n",
       "std             91.661892    0.218728   0.454467   0.374916   0.516398\n",
       "min            221.340000    0.000000   0.000000   0.000000   0.000000\n",
       "25%            299.400000    1.000000   0.000000   1.000000   0.000000\n",
       "50%            347.500000    1.000000   1.000000   1.000000   0.000000\n",
       "75%            392.500000    1.000000   1.000000   1.000000   1.000000\n",
       "max            960.500000    1.000000   1.000000   1.000000   1.000000"
      ]
     },
     "execution_count": 38,
     "metadata": {},
     "output_type": "execute_result"
    }
   ],
   "source": [
    "# calculating the median for molecular weight \n",
    "df3.describe()"
   ]
  },
  {
   "cell_type": "code",
   "execution_count": 42,
   "metadata": {},
   "outputs": [
    {
     "data": {
      "text/plain": [
       "4.291845493562231"
      ]
     },
     "execution_count": 42,
     "metadata": {},
     "output_type": "execute_result"
    }
   ],
   "source": [
    "#missing data for receptors \n",
    "(10/233)*100"
   ]
  },
  {
   "cell_type": "code",
   "execution_count": 39,
   "metadata": {},
   "outputs": [
    {
     "data": {
      "text/plain": [
       "index_drug_name       3-methylfentanyl3-methylthiofentanyl4-chlorois...\n",
       "molecular_formula     C23H30N2O C21H28N2OSC23H29ClN2OC23H29FN2O\\tC28...\n",
       "mole_weight_g_mol​                                              82744.7\n",
       "MOP                                                                 133\n",
       "DOP                                                                  60\n",
       "KOP                                                                  70\n",
       "NOP                                                                   4\n",
       "class                 syntheticsyntheticsyntheticsyntheticsynthetics...\n",
       "dtype: object"
      ]
     },
     "execution_count": 39,
     "metadata": {},
     "output_type": "execute_result"
    }
   ],
   "source": [
    "# determining the total for each receptor \n",
    "df3.sum()"
   ]
  },
  {
   "cell_type": "code",
   "execution_count": 43,
   "metadata": {},
   "outputs": [
    {
     "data": {
      "text/plain": [
       "agonist            103\n",
       "antagonist          18\n",
       "partial agonist      8\n",
       "mixed                4\n",
       "Name: effect_MOP, dtype: int64"
      ]
     },
     "execution_count": 43,
     "metadata": {},
     "output_type": "execute_result"
    }
   ],
   "source": [
    "# the breakdown of the number of drugs in each suffix subgroup \n",
    "df3['effect_MOP'].value_counts()"
   ]
  },
  {
   "cell_type": "code",
   "execution_count": 44,
   "metadata": {},
   "outputs": [
    {
     "data": {
      "text/plain": [
       "agonist            40\n",
       "antagonist         16\n",
       "partial agonist     3\n",
       "mixed               1\n",
       "Name: effect_DOP, dtype: int64"
      ]
     },
     "execution_count": 44,
     "metadata": {},
     "output_type": "execute_result"
    }
   ],
   "source": [
    "df3['effect_DOP'].value_counts()"
   ]
  },
  {
   "cell_type": "code",
   "execution_count": 45,
   "metadata": {},
   "outputs": [
    {
     "data": {
      "text/plain": [
       "agonist            45\n",
       "antagonist         15\n",
       "partial agonist     8\n",
       "unknown             1\n",
       "mixed               1\n",
       "Name: effect_KOP, dtype: int64"
      ]
     },
     "execution_count": 45,
     "metadata": {},
     "output_type": "execute_result"
    }
   ],
   "source": [
    "df3['effect_KOP'].value_counts()"
   ]
  },
  {
   "cell_type": "code",
   "execution_count": 46,
   "metadata": {},
   "outputs": [
    {
     "data": {
      "text/plain": [
       "agonist            3\n",
       "partial agonist    1\n",
       "Name: effect_NOP, dtype: int64"
      ]
     },
     "execution_count": 46,
     "metadata": {},
     "output_type": "execute_result"
    }
   ],
   "source": [
    "df3['effect_NOP'].value_counts()"
   ]
  },
  {
   "cell_type": "code",
   "execution_count": 47,
   "metadata": {},
   "outputs": [
    {
     "data": {
      "text/plain": [
       "191"
      ]
     },
     "execution_count": 47,
     "metadata": {},
     "output_type": "execute_result"
    }
   ],
   "source": [
    "# total agonists \n",
    "103 + 40 + 45 + 3"
   ]
  },
  {
   "cell_type": "code",
   "execution_count": 48,
   "metadata": {},
   "outputs": [
    {
     "data": {
      "text/plain": [
       "81.97424892703863"
      ]
     },
     "execution_count": 48,
     "metadata": {},
     "output_type": "execute_result"
    }
   ],
   "source": [
    "# percentage of agonists \n",
    "((191)/233) * 100"
   ]
  },
  {
   "cell_type": "code",
   "execution_count": 49,
   "metadata": {},
   "outputs": [
    {
     "data": {
      "text/plain": [
       "20"
      ]
     },
     "execution_count": 49,
     "metadata": {},
     "output_type": "execute_result"
    }
   ],
   "source": [
    "# total partial agonists \n",
    "8+3+8+1"
   ]
  },
  {
   "cell_type": "code",
   "execution_count": 50,
   "metadata": {},
   "outputs": [
    {
     "data": {
      "text/plain": [
       "8.583690987124463"
      ]
     },
     "execution_count": 50,
     "metadata": {},
     "output_type": "execute_result"
    }
   ],
   "source": [
    "# percentage of partial agonists \n",
    "(20/233)*100"
   ]
  },
  {
   "cell_type": "code",
   "execution_count": 51,
   "metadata": {},
   "outputs": [
    {
     "data": {
      "text/plain": [
       "49"
      ]
     },
     "execution_count": 51,
     "metadata": {},
     "output_type": "execute_result"
    }
   ],
   "source": [
    "# total antagonists\n",
    "18+16+15"
   ]
  },
  {
   "cell_type": "code",
   "execution_count": 52,
   "metadata": {},
   "outputs": [
    {
     "data": {
      "text/plain": [
       "21.030042918454935"
      ]
     },
     "execution_count": 52,
     "metadata": {},
     "output_type": "execute_result"
    }
   ],
   "source": [
    "# percentage of antagonits \n",
    "(49/233)*100"
   ]
  },
  {
   "cell_type": "code",
   "execution_count": 53,
   "metadata": {},
   "outputs": [
    {
     "data": {
      "text/plain": [
       "2.575107296137339"
      ]
     },
     "execution_count": 53,
     "metadata": {},
     "output_type": "execute_result"
    }
   ],
   "source": [
    "# percentage of mixed receptors \n",
    "(6/233)*100"
   ]
  },
  {
   "cell_type": "code",
   "execution_count": 54,
   "metadata": {},
   "outputs": [
    {
     "data": {
      "text/plain": [
       "synthetic         190\n",
       "semi-synthetic     36\n",
       "alkaloid            7\n",
       "Name: class, dtype: int64"
      ]
     },
     "execution_count": 54,
     "metadata": {},
     "output_type": "execute_result"
    }
   ],
   "source": [
    "# opioid classes based on their origin of discovery or development\n",
    "df3['class'].value_counts()"
   ]
  },
  {
   "cell_type": "code",
   "execution_count": 55,
   "metadata": {},
   "outputs": [
    {
     "data": {
      "text/plain": [
       "synthetic         81.545064\n",
       "semi-synthetic    15.450644\n",
       "alkaloid           3.004292\n",
       "Name: class, dtype: float64"
      ]
     },
     "execution_count": 55,
     "metadata": {},
     "output_type": "execute_result"
    }
   ],
   "source": [
    "(df3['class'].value_counts()/df3['class'].count())*100"
   ]
  },
  {
   "cell_type": "code",
   "execution_count": null,
   "metadata": {},
   "outputs": [],
   "source": []
  }
 ],
 "metadata": {
  "kernelspec": {
   "display_name": "Python 3",
   "language": "python",
   "name": "python3"
  },
  "language_info": {
   "codemirror_mode": {
    "name": "ipython",
    "version": 3
   },
   "file_extension": ".py",
   "mimetype": "text/x-python",
   "name": "python",
   "nbconvert_exporter": "python",
   "pygments_lexer": "ipython3",
   "version": "3.7.1"
  }
 },
 "nbformat": 4,
 "nbformat_minor": 2
}
