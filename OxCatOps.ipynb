{
 "cells": [
  {
   "cell_type": "markdown",
   "metadata": {},
   "source": [
    "# The Oxford Catalogue of Opioids  "
   ]
  },
  {
   "cell_type": "markdown",
   "metadata": {},
   "source": [
    "#### This notebook visualises the extracted data for the searches and pharmacology data of 228 opioid drugs, more details about this research is available on our OSF project page [here](https://osf.io/2ph6c/). "
   ]
  },
  {
   "cell_type": "code",
   "execution_count": 1,
   "metadata": {},
   "outputs": [],
   "source": [
    "# import libraries required for analysis \n",
    "import numpy as np\n",
    "import pandas as pd\n",
    "from pylab import savefig\n",
    "import seaborn as sns\n",
    "import matplotlib.pyplot as plt\n",
    "%matplotlib inline"
   ]
  },
  {
   "cell_type": "markdown",
   "metadata": {},
   "source": [
    "### Phase 1: The list of opioid drugs and their nomenclature "
   ]
  },
  {
   "cell_type": "code",
   "execution_count": 2,
   "metadata": {},
   "outputs": [],
   "source": [
    "# importing data for phase 1 - the list of 228 opioid drugs \n",
    "df1 = pd.read_csv(\"phase1_oxcatop.csv\",thousands=',')"
   ]
  },
  {
   "cell_type": "code",
   "execution_count": 3,
   "metadata": {},
   "outputs": [
    {
     "data": {
      "text/html": [
       "<div>\n",
       "<style scoped>\n",
       "    .dataframe tbody tr th:only-of-type {\n",
       "        vertical-align: middle;\n",
       "    }\n",
       "\n",
       "    .dataframe tbody tr th {\n",
       "        vertical-align: top;\n",
       "    }\n",
       "\n",
       "    .dataframe thead th {\n",
       "        text-align: right;\n",
       "    }\n",
       "</style>\n",
       "<table border=\"1\" class=\"dataframe\">\n",
       "  <thead>\n",
       "    <tr style=\"text-align: right;\">\n",
       "      <th></th>\n",
       "      <th>drug_name</th>\n",
       "      <th>ATC</th>\n",
       "      <th>ATC_code</th>\n",
       "      <th>ATC_cat</th>\n",
       "      <th>BNF</th>\n",
       "      <th>BNF_code</th>\n",
       "      <th>BNF_cat</th>\n",
       "      <th>guide_to_pharmacol</th>\n",
       "      <th>INCB</th>\n",
       "      <th>Merck_index</th>\n",
       "      <th>Martindale</th>\n",
       "      <th>INN</th>\n",
       "      <th>INN_name</th>\n",
       "      <th>BAN</th>\n",
       "      <th>USAN</th>\n",
       "      <th>IUPAC_name</th>\n",
       "      <th>suffix</th>\n",
       "    </tr>\n",
       "  </thead>\n",
       "  <tbody>\n",
       "    <tr>\n",
       "      <th>0</th>\n",
       "      <td>3-methylfentanyl</td>\n",
       "      <td>0</td>\n",
       "      <td>NaN</td>\n",
       "      <td>NaN</td>\n",
       "      <td>0</td>\n",
       "      <td>NaN</td>\n",
       "      <td>NaN</td>\n",
       "      <td>0</td>\n",
       "      <td>1</td>\n",
       "      <td>0</td>\n",
       "      <td>0</td>\n",
       "      <td>0</td>\n",
       "      <td>NaN</td>\n",
       "      <td>NaN</td>\n",
       "      <td>NaN</td>\n",
       "      <td>N-[3-methyl-1-(2-phenylethyl)piperidin-4-yl]-N...</td>\n",
       "      <td>anyl</td>\n",
       "    </tr>\n",
       "    <tr>\n",
       "      <th>1</th>\n",
       "      <td>3-methylthiofentanyl</td>\n",
       "      <td>0</td>\n",
       "      <td>NaN</td>\n",
       "      <td>NaN</td>\n",
       "      <td>0</td>\n",
       "      <td>NaN</td>\n",
       "      <td>NaN</td>\n",
       "      <td>0</td>\n",
       "      <td>1</td>\n",
       "      <td>0</td>\n",
       "      <td>0</td>\n",
       "      <td>0</td>\n",
       "      <td>NaN</td>\n",
       "      <td>NaN</td>\n",
       "      <td>NaN</td>\n",
       "      <td>N-[3-methyl-1-(2-thiophen-2-ylethyl)piperidin-...</td>\n",
       "      <td>anyl</td>\n",
       "    </tr>\n",
       "    <tr>\n",
       "      <th>2</th>\n",
       "      <td>4-chloroisobutyrfentanyl</td>\n",
       "      <td>0</td>\n",
       "      <td>NaN</td>\n",
       "      <td>NaN</td>\n",
       "      <td>0</td>\n",
       "      <td>NaN</td>\n",
       "      <td>NaN</td>\n",
       "      <td>0</td>\n",
       "      <td>0</td>\n",
       "      <td>0</td>\n",
       "      <td>0</td>\n",
       "      <td>0</td>\n",
       "      <td>NaN</td>\n",
       "      <td>NaN</td>\n",
       "      <td>NaN</td>\n",
       "      <td>2-Methyl-N-(4-chlorophenyl)-N-[1-(1-phenylprop...</td>\n",
       "      <td>anyl</td>\n",
       "    </tr>\n",
       "    <tr>\n",
       "      <th>3</th>\n",
       "      <td>4-fluoroisobutyrfentanyl</td>\n",
       "      <td>0</td>\n",
       "      <td>NaN</td>\n",
       "      <td>NaN</td>\n",
       "      <td>0</td>\n",
       "      <td>NaN</td>\n",
       "      <td>NaN</td>\n",
       "      <td>0</td>\n",
       "      <td>1</td>\n",
       "      <td>0</td>\n",
       "      <td>0</td>\n",
       "      <td>0</td>\n",
       "      <td>NaN</td>\n",
       "      <td>NaN</td>\n",
       "      <td>NaN</td>\n",
       "      <td>N-(4-Fluorophenyl)-N-[1-(2-phenylethyl)-4-pipe...</td>\n",
       "      <td>anyl</td>\n",
       "    </tr>\n",
       "    <tr>\n",
       "      <th>4</th>\n",
       "      <td>4-phenylfentanyl</td>\n",
       "      <td>0</td>\n",
       "      <td>NaN</td>\n",
       "      <td>NaN</td>\n",
       "      <td>0</td>\n",
       "      <td>NaN</td>\n",
       "      <td>NaN</td>\n",
       "      <td>0</td>\n",
       "      <td>0</td>\n",
       "      <td>0</td>\n",
       "      <td>0</td>\n",
       "      <td>0</td>\n",
       "      <td>NaN</td>\n",
       "      <td>NaN</td>\n",
       "      <td>NaN</td>\n",
       "      <td>N-Phenyl-N-[4-phenyl-1-(2-phenylethyl)piperidi...</td>\n",
       "      <td>anyl</td>\n",
       "    </tr>\n",
       "  </tbody>\n",
       "</table>\n",
       "</div>"
      ],
      "text/plain": [
       "                  drug_name  ATC ATC_code ATC_cat  BNF BNF_code BNF_cat  \\\n",
       "0          3-methylfentanyl    0      NaN     NaN    0      NaN     NaN   \n",
       "1      3-methylthiofentanyl    0      NaN     NaN    0      NaN     NaN   \n",
       "2  4-chloroisobutyrfentanyl    0      NaN     NaN    0      NaN     NaN   \n",
       "3  4-fluoroisobutyrfentanyl    0      NaN     NaN    0      NaN     NaN   \n",
       "4          4-phenylfentanyl    0      NaN     NaN    0      NaN     NaN   \n",
       "\n",
       "   guide_to_pharmacol  INCB  Merck_index  Martindale  INN INN_name  BAN USAN  \\\n",
       "0                   0     1            0           0    0      NaN  NaN  NaN   \n",
       "1                   0     1            0           0    0      NaN  NaN  NaN   \n",
       "2                   0     0            0           0    0      NaN  NaN  NaN   \n",
       "3                   0     1            0           0    0      NaN  NaN  NaN   \n",
       "4                   0     0            0           0    0      NaN  NaN  NaN   \n",
       "\n",
       "                                          IUPAC_name suffix  \n",
       "0  N-[3-methyl-1-(2-phenylethyl)piperidin-4-yl]-N...   anyl  \n",
       "1  N-[3-methyl-1-(2-thiophen-2-ylethyl)piperidin-...   anyl  \n",
       "2  2-Methyl-N-(4-chlorophenyl)-N-[1-(1-phenylprop...   anyl  \n",
       "3  N-(4-Fluorophenyl)-N-[1-(2-phenylethyl)-4-pipe...   anyl  \n",
       "4  N-Phenyl-N-[4-phenyl-1-(2-phenylethyl)piperidi...   anyl  "
      ]
     },
     "execution_count": 3,
     "metadata": {},
     "output_type": "execute_result"
    }
   ],
   "source": [
    "df1.head()"
   ]
  },
  {
   "cell_type": "code",
   "execution_count": 4,
   "metadata": {
    "scrolled": true
   },
   "outputs": [
    {
     "data": {
      "text/plain": [
       "drug_name             3-methylfentanyl3-methylthiofentanyl4-chlorois...\n",
       "ATC                                                                  58\n",
       "BNF                                                                  32\n",
       "guide_to_pharmacol                                                   59\n",
       "INCB                                                                121\n",
       "Merck_index                                                         111\n",
       "Martindale                                                           69\n",
       "INN                                                                 170\n",
       "suffix                anylanylanylanylanyldolehine eineanyladolanyl-...\n",
       "dtype: object"
      ]
     },
     "execution_count": 4,
     "metadata": {},
     "output_type": "execute_result"
    }
   ],
   "source": [
    "df1.sum()"
   ]
  },
  {
   "cell_type": "code",
   "execution_count": 5,
   "metadata": {},
   "outputs": [
    {
     "data": {
      "text/plain": [
       "1    74.561404\n",
       "0    25.438596\n",
       "Name: INN, dtype: float64"
      ]
     },
     "execution_count": 5,
     "metadata": {},
     "output_type": "execute_result"
    }
   ],
   "source": [
    "# percentage of drugs in each drug source\n",
    "(df1['INN'].value_counts()/df1['INN'].count())*100"
   ]
  },
  {
   "cell_type": "code",
   "execution_count": 6,
   "metadata": {},
   "outputs": [
    {
     "data": {
      "text/plain": [
       "1    53.070175\n",
       "0    46.929825\n",
       "Name: INCB, dtype: float64"
      ]
     },
     "execution_count": 6,
     "metadata": {},
     "output_type": "execute_result"
    }
   ],
   "source": [
    "(df1['INCB'].value_counts()/df1['INCB'].count())*100"
   ]
  },
  {
   "cell_type": "code",
   "execution_count": 7,
   "metadata": {},
   "outputs": [
    {
     "data": {
      "text/plain": [
       "0    51.315789\n",
       "1    48.684211\n",
       "Name: Merck_index, dtype: float64"
      ]
     },
     "execution_count": 7,
     "metadata": {},
     "output_type": "execute_result"
    }
   ],
   "source": [
    "(df1['Merck_index'].value_counts()/df1['Merck_index'].count())*100"
   ]
  },
  {
   "cell_type": "code",
   "execution_count": 8,
   "metadata": {},
   "outputs": [
    {
     "data": {
      "text/plain": [
       "0    69.736842\n",
       "1    30.263158\n",
       "Name: Martindale, dtype: float64"
      ]
     },
     "execution_count": 8,
     "metadata": {},
     "output_type": "execute_result"
    }
   ],
   "source": [
    "(df1['Martindale'].value_counts()/df1['Martindale'].count())*100"
   ]
  },
  {
   "cell_type": "code",
   "execution_count": 9,
   "metadata": {},
   "outputs": [
    {
     "data": {
      "text/plain": [
       "0    74.122807\n",
       "1    25.877193\n",
       "Name: guide_to_pharmacol, dtype: float64"
      ]
     },
     "execution_count": 9,
     "metadata": {},
     "output_type": "execute_result"
    }
   ],
   "source": [
    "(df1['guide_to_pharmacol'].value_counts()/df1['guide_to_pharmacol'].count())*100"
   ]
  },
  {
   "cell_type": "code",
   "execution_count": 10,
   "metadata": {},
   "outputs": [
    {
     "data": {
      "text/plain": [
       "0    74.561404\n",
       "1    25.438596\n",
       "Name: ATC, dtype: float64"
      ]
     },
     "execution_count": 10,
     "metadata": {},
     "output_type": "execute_result"
    }
   ],
   "source": [
    "(df1['ATC'].value_counts()/df1['ATC'].count())*100"
   ]
  },
  {
   "cell_type": "code",
   "execution_count": 11,
   "metadata": {},
   "outputs": [
    {
     "data": {
      "text/plain": [
       "0    85.964912\n",
       "1    14.035088\n",
       "Name: BNF, dtype: float64"
      ]
     },
     "execution_count": 11,
     "metadata": {},
     "output_type": "execute_result"
    }
   ],
   "source": [
    "(df1['BNF'].value_counts()/df1['BNF'].count())*100"
   ]
  },
  {
   "cell_type": "code",
   "execution_count": 12,
   "metadata": {},
   "outputs": [],
   "source": [
    "# creating a new variable to sum the 7 data sources \n",
    "df1['sources'] = df1['ATC'] + df1['BNF'] + df1['guide_to_pharmacol'] + df1['INCB'] + df1['Merck_index'] + df1['Martindale'] + df1['INN']"
   ]
  },
  {
   "cell_type": "code",
   "execution_count": 13,
   "metadata": {},
   "outputs": [
    {
     "data": {
      "text/html": [
       "<div>\n",
       "<style scoped>\n",
       "    .dataframe tbody tr th:only-of-type {\n",
       "        vertical-align: middle;\n",
       "    }\n",
       "\n",
       "    .dataframe tbody tr th {\n",
       "        vertical-align: top;\n",
       "    }\n",
       "\n",
       "    .dataframe thead th {\n",
       "        text-align: right;\n",
       "    }\n",
       "</style>\n",
       "<table border=\"1\" class=\"dataframe\">\n",
       "  <thead>\n",
       "    <tr style=\"text-align: right;\">\n",
       "      <th></th>\n",
       "      <th>ATC</th>\n",
       "      <th>BNF</th>\n",
       "      <th>guide_to_pharmacol</th>\n",
       "      <th>INCB</th>\n",
       "      <th>Merck_index</th>\n",
       "      <th>Martindale</th>\n",
       "      <th>INN</th>\n",
       "      <th>sources</th>\n",
       "    </tr>\n",
       "  </thead>\n",
       "  <tbody>\n",
       "    <tr>\n",
       "      <th>count</th>\n",
       "      <td>228.000000</td>\n",
       "      <td>228.000000</td>\n",
       "      <td>228.000000</td>\n",
       "      <td>228.000000</td>\n",
       "      <td>228.000000</td>\n",
       "      <td>228.000000</td>\n",
       "      <td>228.000000</td>\n",
       "      <td>228.000000</td>\n",
       "    </tr>\n",
       "    <tr>\n",
       "      <th>mean</th>\n",
       "      <td>0.254386</td>\n",
       "      <td>0.140351</td>\n",
       "      <td>0.258772</td>\n",
       "      <td>0.530702</td>\n",
       "      <td>0.486842</td>\n",
       "      <td>0.302632</td>\n",
       "      <td>0.745614</td>\n",
       "      <td>2.719298</td>\n",
       "    </tr>\n",
       "    <tr>\n",
       "      <th>std</th>\n",
       "      <td>0.436474</td>\n",
       "      <td>0.348115</td>\n",
       "      <td>0.438924</td>\n",
       "      <td>0.500155</td>\n",
       "      <td>0.500927</td>\n",
       "      <td>0.460408</td>\n",
       "      <td>0.436474</td>\n",
       "      <td>1.977890</td>\n",
       "    </tr>\n",
       "    <tr>\n",
       "      <th>min</th>\n",
       "      <td>0.000000</td>\n",
       "      <td>0.000000</td>\n",
       "      <td>0.000000</td>\n",
       "      <td>0.000000</td>\n",
       "      <td>0.000000</td>\n",
       "      <td>0.000000</td>\n",
       "      <td>0.000000</td>\n",
       "      <td>0.000000</td>\n",
       "    </tr>\n",
       "    <tr>\n",
       "      <th>25%</th>\n",
       "      <td>0.000000</td>\n",
       "      <td>0.000000</td>\n",
       "      <td>0.000000</td>\n",
       "      <td>0.000000</td>\n",
       "      <td>0.000000</td>\n",
       "      <td>0.000000</td>\n",
       "      <td>0.000000</td>\n",
       "      <td>1.000000</td>\n",
       "    </tr>\n",
       "    <tr>\n",
       "      <th>50%</th>\n",
       "      <td>0.000000</td>\n",
       "      <td>0.000000</td>\n",
       "      <td>0.000000</td>\n",
       "      <td>1.000000</td>\n",
       "      <td>0.000000</td>\n",
       "      <td>0.000000</td>\n",
       "      <td>1.000000</td>\n",
       "      <td>2.000000</td>\n",
       "    </tr>\n",
       "    <tr>\n",
       "      <th>75%</th>\n",
       "      <td>1.000000</td>\n",
       "      <td>0.000000</td>\n",
       "      <td>1.000000</td>\n",
       "      <td>1.000000</td>\n",
       "      <td>1.000000</td>\n",
       "      <td>1.000000</td>\n",
       "      <td>1.000000</td>\n",
       "      <td>4.000000</td>\n",
       "    </tr>\n",
       "    <tr>\n",
       "      <th>max</th>\n",
       "      <td>1.000000</td>\n",
       "      <td>1.000000</td>\n",
       "      <td>1.000000</td>\n",
       "      <td>1.000000</td>\n",
       "      <td>1.000000</td>\n",
       "      <td>1.000000</td>\n",
       "      <td>1.000000</td>\n",
       "      <td>7.000000</td>\n",
       "    </tr>\n",
       "  </tbody>\n",
       "</table>\n",
       "</div>"
      ],
      "text/plain": [
       "              ATC         BNF  guide_to_pharmacol        INCB  Merck_index  \\\n",
       "count  228.000000  228.000000          228.000000  228.000000   228.000000   \n",
       "mean     0.254386    0.140351            0.258772    0.530702     0.486842   \n",
       "std      0.436474    0.348115            0.438924    0.500155     0.500927   \n",
       "min      0.000000    0.000000            0.000000    0.000000     0.000000   \n",
       "25%      0.000000    0.000000            0.000000    0.000000     0.000000   \n",
       "50%      0.000000    0.000000            0.000000    1.000000     0.000000   \n",
       "75%      1.000000    0.000000            1.000000    1.000000     1.000000   \n",
       "max      1.000000    1.000000            1.000000    1.000000     1.000000   \n",
       "\n",
       "       Martindale         INN     sources  \n",
       "count  228.000000  228.000000  228.000000  \n",
       "mean     0.302632    0.745614    2.719298  \n",
       "std      0.460408    0.436474    1.977890  \n",
       "min      0.000000    0.000000    0.000000  \n",
       "25%      0.000000    0.000000    1.000000  \n",
       "50%      0.000000    1.000000    2.000000  \n",
       "75%      1.000000    1.000000    4.000000  \n",
       "max      1.000000    1.000000    7.000000  "
      ]
     },
     "execution_count": 13,
     "metadata": {},
     "output_type": "execute_result"
    }
   ],
   "source": [
    "df1.describe()"
   ]
  },
  {
   "cell_type": "code",
   "execution_count": 14,
   "metadata": {
    "scrolled": true
   },
   "outputs": [
    {
     "data": {
      "image/png": "[encoded data removed]",
      "text/plain": [
       "<Figure size 432x288 with 1 Axes>"
      ]
     },
     "metadata": {
      "needs_background": "light"
     },
     "output_type": "display_data"
    }
   ],
   "source": [
    "# visualising the spread of data to check the median is the best measure\n",
    "ax = sns.countplot(data=df1, x=\"sources\", color=\"navy\")"
   ]
  },
  {
   "cell_type": "code",
   "execution_count": 15,
   "metadata": {},
   "outputs": [
    {
     "data": {
      "text/html": [
       "<div>\n",
       "<style scoped>\n",
       "    .dataframe tbody tr th:only-of-type {\n",
       "        vertical-align: middle;\n",
       "    }\n",
       "\n",
       "    .dataframe tbody tr th {\n",
       "        vertical-align: top;\n",
       "    }\n",
       "\n",
       "    .dataframe thead th {\n",
       "        text-align: right;\n",
       "    }\n",
       "</style>\n",
       "<table border=\"1\" class=\"dataframe\">\n",
       "  <thead>\n",
       "    <tr style=\"text-align: right;\">\n",
       "      <th></th>\n",
       "      <th>databases</th>\n",
       "      <th>opioids</th>\n",
       "    </tr>\n",
       "  </thead>\n",
       "  <tbody>\n",
       "    <tr>\n",
       "      <th>0</th>\n",
       "      <td>INN</td>\n",
       "      <td>170</td>\n",
       "    </tr>\n",
       "    <tr>\n",
       "      <th>1</th>\n",
       "      <td>INCB</td>\n",
       "      <td>121</td>\n",
       "    </tr>\n",
       "    <tr>\n",
       "      <th>2</th>\n",
       "      <td>Merck</td>\n",
       "      <td>111</td>\n",
       "    </tr>\n",
       "    <tr>\n",
       "      <th>3</th>\n",
       "      <td>Martindale</td>\n",
       "      <td>69</td>\n",
       "    </tr>\n",
       "    <tr>\n",
       "      <th>4</th>\n",
       "      <td>Guide to Pharmacology</td>\n",
       "      <td>59</td>\n",
       "    </tr>\n",
       "  </tbody>\n",
       "</table>\n",
       "</div>"
      ],
      "text/plain": [
       "                databases  opioids\n",
       "0                     INN      170\n",
       "1                    INCB      121\n",
       "2                  Merck       111\n",
       "3              Martindale       69\n",
       "4  Guide to Pharmacology        59"
      ]
     },
     "execution_count": 15,
     "metadata": {},
     "output_type": "execute_result"
    }
   ],
   "source": [
    "# importing new dataframe for figure of seven data sources \n",
    "df2 = pd.read_csv(\"oxcat_databases.csv\",thousands=',')\n",
    "df2.head()"
   ]
  },
  {
   "cell_type": "code",
   "execution_count": 16,
   "metadata": {},
   "outputs": [
    {
     "data": {
      "text/html": [
       "<div>\n",
       "<style scoped>\n",
       "    .dataframe tbody tr th:only-of-type {\n",
       "        vertical-align: middle;\n",
       "    }\n",
       "\n",
       "    .dataframe tbody tr th {\n",
       "        vertical-align: top;\n",
       "    }\n",
       "\n",
       "    .dataframe thead th {\n",
       "        text-align: right;\n",
       "    }\n",
       "</style>\n",
       "<table border=\"1\" class=\"dataframe\">\n",
       "  <thead>\n",
       "    <tr style=\"text-align: right;\">\n",
       "      <th></th>\n",
       "      <th>opioids</th>\n",
       "    </tr>\n",
       "  </thead>\n",
       "  <tbody>\n",
       "    <tr>\n",
       "      <th>count</th>\n",
       "      <td>7.000000</td>\n",
       "    </tr>\n",
       "    <tr>\n",
       "      <th>mean</th>\n",
       "      <td>88.571429</td>\n",
       "    </tr>\n",
       "    <tr>\n",
       "      <th>std</th>\n",
       "      <td>47.570499</td>\n",
       "    </tr>\n",
       "    <tr>\n",
       "      <th>min</th>\n",
       "      <td>32.000000</td>\n",
       "    </tr>\n",
       "    <tr>\n",
       "      <th>25%</th>\n",
       "      <td>58.500000</td>\n",
       "    </tr>\n",
       "    <tr>\n",
       "      <th>50%</th>\n",
       "      <td>69.000000</td>\n",
       "    </tr>\n",
       "    <tr>\n",
       "      <th>75%</th>\n",
       "      <td>116.000000</td>\n",
       "    </tr>\n",
       "    <tr>\n",
       "      <th>max</th>\n",
       "      <td>170.000000</td>\n",
       "    </tr>\n",
       "  </tbody>\n",
       "</table>\n",
       "</div>"
      ],
      "text/plain": [
       "          opioids\n",
       "count    7.000000\n",
       "mean    88.571429\n",
       "std     47.570499\n",
       "min     32.000000\n",
       "25%     58.500000\n",
       "50%     69.000000\n",
       "75%    116.000000\n",
       "max    170.000000"
      ]
     },
     "execution_count": 16,
     "metadata": {},
     "output_type": "execute_result"
    }
   ],
   "source": [
    "df2.describe()"
   ]
  },
  {
   "cell_type": "code",
   "execution_count": 17,
   "metadata": {},
   "outputs": [
    {
     "data": {
      "image/png": "[encoded data removed]",
      "text/plain": [
       "<Figure size 864x576 with 1 Axes>"
      ]
     },
     "metadata": {
      "needs_background": "light"
     },
     "output_type": "display_data"
    }
   ],
   "source": [
    "# ploting data as a bar graph using seaborn\n",
    "plt.figure(figsize=(12,8))\n",
    "ax = sns.barplot(data=df2, x=\"databases\", y=\"opioids\", color=\"navy\")\n",
    "plt.xlabel(' ')\n",
    "plt.ylabel('No. of opioids in data source')\n",
    "\n",
    "plt.savefig(\"databases.png\", dpi=600)"
   ]
  },
  {
   "cell_type": "code",
   "execution_count": 18,
   "metadata": {
    "scrolled": true
   },
   "outputs": [
    {
     "data": {
      "text/plain": [
       "40"
      ]
     },
     "execution_count": 18,
     "metadata": {},
     "output_type": "execute_result"
    }
   ],
   "source": [
    "# determining the number of unique suffixes \n",
    "df1['suffix'].nunique()"
   ]
  },
  {
   "cell_type": "code",
   "execution_count": 19,
   "metadata": {},
   "outputs": [
    {
     "data": {
      "text/plain": [
       "anyl      44\n",
       "dine      29\n",
       "hine      23\n",
       "cine      18\n",
       "adol      15\n",
       "mide       9\n",
       "line       9\n",
       "done       8\n",
       "phan       8\n",
       "-          7\n",
       "anol       7\n",
       "hone       5\n",
       "zine       5\n",
       "xone       5\n",
       "eine       5\n",
       "tene       3\n",
       "inol       2\n",
       "zene       2\n",
       "none       2\n",
       "tine       2\n",
       "phine      1\n",
       "mine       1\n",
       "xime       1\n",
       "dole       1\n",
       "late       1\n",
       "hene       1\n",
       "fene       1\n",
       "vine       1\n",
       "opon       1\n",
       "acon       1\n",
       "pine       1\n",
       "etyl       1\n",
       "oxin       1\n",
       "iram       1\n",
       "etum       1\n",
       "opan       1\n",
       "pium       1\n",
       "egol       1\n",
       "fine       1\n",
       "aine       1\n",
       "Name: suffix, dtype: int64"
      ]
     },
     "execution_count": 19,
     "metadata": {},
     "output_type": "execute_result"
    }
   ],
   "source": [
    "# the breakdown of the number of drugs in each suffix subgroup \n",
    "df1['suffix'].value_counts()"
   ]
  },
  {
   "cell_type": "code",
   "execution_count": 20,
   "metadata": {},
   "outputs": [
    {
     "data": {
      "text/plain": [
       "anyl      19.298246\n",
       "dine      12.719298\n",
       "hine      10.087719\n",
       "cine       7.894737\n",
       "adol       6.578947\n",
       "mide       3.947368\n",
       "line       3.947368\n",
       "done       3.508772\n",
       "phan       3.508772\n",
       "-          3.070175\n",
       "anol       3.070175\n",
       "hone       2.192982\n",
       "zine       2.192982\n",
       "xone       2.192982\n",
       "eine       2.192982\n",
       "tene       1.315789\n",
       "inol       0.877193\n",
       "zene       0.877193\n",
       "none       0.877193\n",
       "tine       0.877193\n",
       "phine      0.438596\n",
       "mine       0.438596\n",
       "xime       0.438596\n",
       "dole       0.438596\n",
       "late       0.438596\n",
       "hene       0.438596\n",
       "fene       0.438596\n",
       "vine       0.438596\n",
       "opon       0.438596\n",
       "acon       0.438596\n",
       "pine       0.438596\n",
       "etyl       0.438596\n",
       "oxin       0.438596\n",
       "iram       0.438596\n",
       "etum       0.438596\n",
       "opan       0.438596\n",
       "pium       0.438596\n",
       "egol       0.438596\n",
       "fine       0.438596\n",
       "aine       0.438596\n",
       "Name: suffix, dtype: float64"
      ]
     },
     "execution_count": 20,
     "metadata": {},
     "output_type": "execute_result"
    }
   ],
   "source": [
    "# the percentage of drugs in each suffix subgroup \n",
    "(df1['suffix'].value_counts()/df1['suffix'].count())*100"
   ]
  },
  {
   "cell_type": "code",
   "execution_count": 21,
   "metadata": {},
   "outputs": [
    {
     "data": {
      "image/png": "[encoded data removed]",
      "text/plain": [
       "<Figure size 1296x936 with 1 Axes>"
      ]
     },
     "metadata": {
      "needs_background": "light"
     },
     "output_type": "display_data"
    }
   ],
   "source": [
    "# plotting the number of suffixes using seaborn\n",
    "plt.figure(figsize=(18,13))\n",
    "ax = sns.countplot(data=df1, \n",
    "                   x=\"suffix\", \n",
    "                   color=\"navy\",\n",
    "                   order=df1['suffix'].value_counts().index)\n",
    "plt.xlabel(' ')\n",
    "plt.ylabel('Number of drugs', fontsize=16)\n",
    "\n",
    "plt.savefig(\"fig_suffix.png\", dpi=600)"
   ]
  },
  {
   "cell_type": "markdown",
   "metadata": {},
   "source": [
    "### Phase 2: Cataloging of opioids by pharmacology properties   "
   ]
  },
  {
   "cell_type": "code",
   "execution_count": 22,
   "metadata": {},
   "outputs": [],
   "source": [
    "# importing data for phase 2 - pharmacology data \n",
    "df3 = pd.read_csv(\"phase2_oxcatop.csv\",thousands=',')"
   ]
  },
  {
   "cell_type": "code",
   "execution_count": 23,
   "metadata": {},
   "outputs": [
    {
     "data": {
      "text/html": [
       "<div>\n",
       "<style scoped>\n",
       "    .dataframe tbody tr th:only-of-type {\n",
       "        vertical-align: middle;\n",
       "    }\n",
       "\n",
       "    .dataframe tbody tr th {\n",
       "        vertical-align: top;\n",
       "    }\n",
       "\n",
       "    .dataframe thead th {\n",
       "        text-align: right;\n",
       "    }\n",
       "</style>\n",
       "<table border=\"1\" class=\"dataframe\">\n",
       "  <thead>\n",
       "    <tr style=\"text-align: right;\">\n",
       "      <th></th>\n",
       "      <th>drug_name</th>\n",
       "      <th>molecular_formula</th>\n",
       "      <th>mole_weight_g_mol​</th>\n",
       "      <th>MOP</th>\n",
       "      <th>effect_MOP</th>\n",
       "      <th>DOP</th>\n",
       "      <th>effect_DOP</th>\n",
       "      <th>KOP</th>\n",
       "      <th>effect_KOP</th>\n",
       "      <th>NOP</th>\n",
       "      <th>effect_NOP</th>\n",
       "      <th>class</th>\n",
       "    </tr>\n",
       "  </thead>\n",
       "  <tbody>\n",
       "    <tr>\n",
       "      <th>0</th>\n",
       "      <td>3-methylfentanyl</td>\n",
       "      <td>C23H30N2O</td>\n",
       "      <td>350.50</td>\n",
       "      <td>1.0</td>\n",
       "      <td>agonist</td>\n",
       "      <td>1.0</td>\n",
       "      <td>agonist</td>\n",
       "      <td>1.0</td>\n",
       "      <td>agonist</td>\n",
       "      <td>0.0</td>\n",
       "      <td>NaN</td>\n",
       "      <td>synthetic</td>\n",
       "    </tr>\n",
       "    <tr>\n",
       "      <th>1</th>\n",
       "      <td>3-methylthiofentanyl</td>\n",
       "      <td>C21H28N2OS</td>\n",
       "      <td>356.50</td>\n",
       "      <td>1.0</td>\n",
       "      <td>agonist</td>\n",
       "      <td>1.0</td>\n",
       "      <td>agonist</td>\n",
       "      <td>1.0</td>\n",
       "      <td>agonist</td>\n",
       "      <td>0.0</td>\n",
       "      <td>NaN</td>\n",
       "      <td>synthetic</td>\n",
       "    </tr>\n",
       "    <tr>\n",
       "      <th>2</th>\n",
       "      <td>4-chloroisobutyrfentanyl</td>\n",
       "      <td>C23H29ClN2O</td>\n",
       "      <td>384.95</td>\n",
       "      <td>NaN</td>\n",
       "      <td>NaN</td>\n",
       "      <td>NaN</td>\n",
       "      <td>NaN</td>\n",
       "      <td>NaN</td>\n",
       "      <td>NaN</td>\n",
       "      <td>NaN</td>\n",
       "      <td>NaN</td>\n",
       "      <td>synthetic</td>\n",
       "    </tr>\n",
       "    <tr>\n",
       "      <th>3</th>\n",
       "      <td>4-fluoroisobutyrfentanyl</td>\n",
       "      <td>C23H29FN2O</td>\n",
       "      <td>368.50</td>\n",
       "      <td>1.0</td>\n",
       "      <td>agonist</td>\n",
       "      <td>NaN</td>\n",
       "      <td>NaN</td>\n",
       "      <td>NaN</td>\n",
       "      <td>NaN</td>\n",
       "      <td>NaN</td>\n",
       "      <td>NaN</td>\n",
       "      <td>synthetic</td>\n",
       "    </tr>\n",
       "    <tr>\n",
       "      <th>4</th>\n",
       "      <td>4-phenylfentanyl</td>\n",
       "      <td>\\tC28H32N2O</td>\n",
       "      <td>412.60</td>\n",
       "      <td>NaN</td>\n",
       "      <td>NaN</td>\n",
       "      <td>NaN</td>\n",
       "      <td>NaN</td>\n",
       "      <td>NaN</td>\n",
       "      <td>NaN</td>\n",
       "      <td>NaN</td>\n",
       "      <td>NaN</td>\n",
       "      <td>synthetic</td>\n",
       "    </tr>\n",
       "  </tbody>\n",
       "</table>\n",
       "</div>"
      ],
      "text/plain": [
       "                  drug_name molecular_formula  mole_weight_g_mol​  MOP  \\\n",
       "0          3-methylfentanyl        C23H30N2O               350.50  1.0   \n",
       "1      3-methylthiofentanyl        C21H28N2OS              356.50  1.0   \n",
       "2  4-chloroisobutyrfentanyl       C23H29ClN2O              384.95  NaN   \n",
       "3  4-fluoroisobutyrfentanyl        C23H29FN2O              368.50  1.0   \n",
       "4          4-phenylfentanyl       \\tC28H32N2O              412.60  NaN   \n",
       "\n",
       "  effect_MOP  DOP effect_DOP  KOP effect_KOP  NOP effect_NOP      class  \n",
       "0    agonist  1.0    agonist  1.0    agonist  0.0        NaN  synthetic  \n",
       "1    agonist  1.0    agonist  1.0    agonist  0.0        NaN  synthetic  \n",
       "2        NaN  NaN        NaN  NaN        NaN  NaN        NaN  synthetic  \n",
       "3    agonist  NaN        NaN  NaN        NaN  NaN        NaN  synthetic  \n",
       "4        NaN  NaN        NaN  NaN        NaN  NaN        NaN  synthetic  "
      ]
     },
     "execution_count": 23,
     "metadata": {},
     "output_type": "execute_result"
    }
   ],
   "source": [
    "df3.head()"
   ]
  },
  {
   "cell_type": "code",
   "execution_count": 24,
   "metadata": {},
   "outputs": [
    {
     "data": {
      "text/html": [
       "<div>\n",
       "<style scoped>\n",
       "    .dataframe tbody tr th:only-of-type {\n",
       "        vertical-align: middle;\n",
       "    }\n",
       "\n",
       "    .dataframe tbody tr th {\n",
       "        vertical-align: top;\n",
       "    }\n",
       "\n",
       "    .dataframe thead th {\n",
       "        text-align: right;\n",
       "    }\n",
       "</style>\n",
       "<table border=\"1\" class=\"dataframe\">\n",
       "  <thead>\n",
       "    <tr style=\"text-align: right;\">\n",
       "      <th></th>\n",
       "      <th>mole_weight_g_mol​</th>\n",
       "      <th>MOP</th>\n",
       "      <th>DOP</th>\n",
       "      <th>KOP</th>\n",
       "      <th>NOP</th>\n",
       "    </tr>\n",
       "  </thead>\n",
       "  <tbody>\n",
       "    <tr>\n",
       "      <th>count</th>\n",
       "      <td>226.000000</td>\n",
       "      <td>137.000000</td>\n",
       "      <td>80.000000</td>\n",
       "      <td>82.000000</td>\n",
       "      <td>10.000000</td>\n",
       "    </tr>\n",
       "    <tr>\n",
       "      <th>mean</th>\n",
       "      <td>351.319912</td>\n",
       "      <td>0.948905</td>\n",
       "      <td>0.700000</td>\n",
       "      <td>0.829268</td>\n",
       "      <td>0.400000</td>\n",
       "    </tr>\n",
       "    <tr>\n",
       "      <th>std</th>\n",
       "      <td>89.113638</td>\n",
       "      <td>0.220999</td>\n",
       "      <td>0.461149</td>\n",
       "      <td>0.378590</td>\n",
       "      <td>0.516398</td>\n",
       "    </tr>\n",
       "    <tr>\n",
       "      <th>min</th>\n",
       "      <td>221.340000</td>\n",
       "      <td>0.000000</td>\n",
       "      <td>0.000000</td>\n",
       "      <td>0.000000</td>\n",
       "      <td>0.000000</td>\n",
       "    </tr>\n",
       "    <tr>\n",
       "      <th>25%</th>\n",
       "      <td>297.825000</td>\n",
       "      <td>1.000000</td>\n",
       "      <td>0.000000</td>\n",
       "      <td>1.000000</td>\n",
       "      <td>0.000000</td>\n",
       "    </tr>\n",
       "    <tr>\n",
       "      <th>50%</th>\n",
       "      <td>342.400000</td>\n",
       "      <td>1.000000</td>\n",
       "      <td>1.000000</td>\n",
       "      <td>1.000000</td>\n",
       "      <td>0.000000</td>\n",
       "    </tr>\n",
       "    <tr>\n",
       "      <th>75%</th>\n",
       "      <td>386.187500</td>\n",
       "      <td>1.000000</td>\n",
       "      <td>1.000000</td>\n",
       "      <td>1.000000</td>\n",
       "      <td>1.000000</td>\n",
       "    </tr>\n",
       "    <tr>\n",
       "      <th>max</th>\n",
       "      <td>960.500000</td>\n",
       "      <td>1.000000</td>\n",
       "      <td>1.000000</td>\n",
       "      <td>1.000000</td>\n",
       "      <td>1.000000</td>\n",
       "    </tr>\n",
       "  </tbody>\n",
       "</table>\n",
       "</div>"
      ],
      "text/plain": [
       "       mole_weight_g_mol​         MOP        DOP        KOP        NOP\n",
       "count          226.000000  137.000000  80.000000  82.000000  10.000000\n",
       "mean           351.319912    0.948905   0.700000   0.829268   0.400000\n",
       "std             89.113638    0.220999   0.461149   0.378590   0.516398\n",
       "min            221.340000    0.000000   0.000000   0.000000   0.000000\n",
       "25%            297.825000    1.000000   0.000000   1.000000   0.000000\n",
       "50%            342.400000    1.000000   1.000000   1.000000   0.000000\n",
       "75%            386.187500    1.000000   1.000000   1.000000   1.000000\n",
       "max            960.500000    1.000000   1.000000   1.000000   1.000000"
      ]
     },
     "execution_count": 24,
     "metadata": {},
     "output_type": "execute_result"
    }
   ],
   "source": [
    "# calculating the median for molecular weight \n",
    "df3.describe()"
   ]
  },
  {
   "cell_type": "code",
   "execution_count": 25,
   "metadata": {},
   "outputs": [
    {
     "data": {
      "text/plain": [
       "60.08771929824561"
      ]
     },
     "execution_count": 25,
     "metadata": {},
     "output_type": "execute_result"
    }
   ],
   "source": [
    "# percentage of missing data - MOP receptor\n",
    "(137/228)*100"
   ]
  },
  {
   "cell_type": "code",
   "execution_count": 26,
   "metadata": {},
   "outputs": [
    {
     "data": {
      "text/plain": [
       "35.08771929824561"
      ]
     },
     "execution_count": 26,
     "metadata": {},
     "output_type": "execute_result"
    }
   ],
   "source": [
    "# percentage of missing data - DOP receptor\n",
    "(80/228)*100"
   ]
  },
  {
   "cell_type": "code",
   "execution_count": 27,
   "metadata": {},
   "outputs": [
    {
     "data": {
      "text/plain": [
       "35.96491228070175"
      ]
     },
     "execution_count": 27,
     "metadata": {},
     "output_type": "execute_result"
    }
   ],
   "source": [
    "# percentage of missing data - KOP receptor\n",
    "(82/228)*100"
   ]
  },
  {
   "cell_type": "code",
   "execution_count": 28,
   "metadata": {},
   "outputs": [
    {
     "data": {
      "text/plain": [
       "4.385964912280701"
      ]
     },
     "execution_count": 28,
     "metadata": {},
     "output_type": "execute_result"
    }
   ],
   "source": [
    "# percentage of missing data - NOP receptor\n",
    "(10/228)*100"
   ]
  },
  {
   "cell_type": "code",
   "execution_count": 29,
   "metadata": {},
   "outputs": [
    {
     "data": {
      "text/plain": [
       "drug_name             3-methylfentanyl3-methylthiofentanyl4-chlorois...\n",
       "mole_weight_g_mol​                                              79398.3\n",
       "MOP                                                                 130\n",
       "DOP                                                                  56\n",
       "KOP                                                                  68\n",
       "NOP                                                                   4\n",
       "class                 syntheticsyntheticsyntheticsyntheticsynthetics...\n",
       "dtype: object"
      ]
     },
     "execution_count": 29,
     "metadata": {},
     "output_type": "execute_result"
    }
   ],
   "source": [
    "# determining the total for each receptor \n",
    "df3.sum()"
   ]
  },
  {
   "cell_type": "code",
   "execution_count": 30,
   "metadata": {},
   "outputs": [
    {
     "data": {
      "text/plain": [
       "agonist            104\n",
       "antagonist          14\n",
       "partial agonist      8\n",
       "mixed                4\n",
       "Name: effect_MOP, dtype: int64"
      ]
     },
     "execution_count": 30,
     "metadata": {},
     "output_type": "execute_result"
    }
   ],
   "source": [
    "# the breakdown of the number of drugs in each suffix subgroup \n",
    "df3['effect_MOP'].value_counts()"
   ]
  },
  {
   "cell_type": "code",
   "execution_count": 31,
   "metadata": {},
   "outputs": [
    {
     "data": {
      "text/plain": [
       "agonist            41\n",
       "antagonist         11\n",
       "partial agonist     3\n",
       "mixed               1\n",
       "Name: effect_DOP, dtype: int64"
      ]
     },
     "execution_count": 31,
     "metadata": {},
     "output_type": "execute_result"
    }
   ],
   "source": [
    "df3['effect_DOP'].value_counts()"
   ]
  },
  {
   "cell_type": "code",
   "execution_count": 32,
   "metadata": {},
   "outputs": [
    {
     "data": {
      "text/plain": [
       "agonist            46\n",
       "antagonist         12\n",
       "partial agonist     8\n",
       "mixed               1\n",
       "unknown             1\n",
       "Name: effect_KOP, dtype: int64"
      ]
     },
     "execution_count": 32,
     "metadata": {},
     "output_type": "execute_result"
    }
   ],
   "source": [
    "df3['effect_KOP'].value_counts()"
   ]
  },
  {
   "cell_type": "code",
   "execution_count": 33,
   "metadata": {},
   "outputs": [
    {
     "data": {
      "text/plain": [
       "agonist            3\n",
       "partial agonist    1\n",
       "Name: effect_NOP, dtype: int64"
      ]
     },
     "execution_count": 33,
     "metadata": {},
     "output_type": "execute_result"
    }
   ],
   "source": [
    "df3['effect_NOP'].value_counts()"
   ]
  },
  {
   "cell_type": "code",
   "execution_count": 34,
   "metadata": {},
   "outputs": [
    {
     "data": {
      "text/plain": [
       "194"
      ]
     },
     "execution_count": 34,
     "metadata": {},
     "output_type": "execute_result"
    }
   ],
   "source": [
    "# total agonists \n",
    "104 + 41 + 46 + 3"
   ]
  },
  {
   "cell_type": "code",
   "execution_count": 35,
   "metadata": {},
   "outputs": [
    {
     "data": {
      "text/plain": [
       "85.08771929824562"
      ]
     },
     "execution_count": 35,
     "metadata": {},
     "output_type": "execute_result"
    }
   ],
   "source": [
    "# percentage of agonists \n",
    "((104 + 41 + 46 + 3)/228) * 100"
   ]
  },
  {
   "cell_type": "code",
   "execution_count": 36,
   "metadata": {},
   "outputs": [
    {
     "data": {
      "text/plain": [
       "20"
      ]
     },
     "execution_count": 36,
     "metadata": {},
     "output_type": "execute_result"
    }
   ],
   "source": [
    "# total partial agonists \n",
    "8+3+8+1"
   ]
  },
  {
   "cell_type": "code",
   "execution_count": 37,
   "metadata": {},
   "outputs": [
    {
     "data": {
      "text/plain": [
       "8.771929824561402"
      ]
     },
     "execution_count": 37,
     "metadata": {},
     "output_type": "execute_result"
    }
   ],
   "source": [
    "# percentage of partial agonists \n",
    "((8+3+8+1)/228)*100"
   ]
  },
  {
   "cell_type": "code",
   "execution_count": 38,
   "metadata": {},
   "outputs": [
    {
     "data": {
      "text/plain": [
       "37"
      ]
     },
     "execution_count": 38,
     "metadata": {},
     "output_type": "execute_result"
    }
   ],
   "source": [
    "# total antagonists\n",
    "14+11+12"
   ]
  },
  {
   "cell_type": "code",
   "execution_count": 39,
   "metadata": {},
   "outputs": [
    {
     "data": {
      "text/plain": [
       "16.228070175438596"
      ]
     },
     "execution_count": 39,
     "metadata": {},
     "output_type": "execute_result"
    }
   ],
   "source": [
    "# percentage of antagonits \n",
    "((14+11+12)/228)*100"
   ]
  },
  {
   "cell_type": "code",
   "execution_count": 40,
   "metadata": {},
   "outputs": [
    {
     "data": {
      "text/plain": [
       "2.631578947368421"
      ]
     },
     "execution_count": 40,
     "metadata": {},
     "output_type": "execute_result"
    }
   ],
   "source": [
    "# percentage of mixed receptors \n",
    "(6/228)*100"
   ]
  },
  {
   "cell_type": "code",
   "execution_count": 41,
   "metadata": {},
   "outputs": [
    {
     "data": {
      "text/plain": [
       "synthetic         184\n",
       "semi-synthetic     36\n",
       "alkaloid            8\n",
       "Name: class, dtype: int64"
      ]
     },
     "execution_count": 41,
     "metadata": {},
     "output_type": "execute_result"
    }
   ],
   "source": [
    "# opioid classes based on their origin of discovery or development\n",
    "df3['class'].value_counts()"
   ]
  },
  {
   "cell_type": "code",
   "execution_count": 42,
   "metadata": {},
   "outputs": [
    {
     "data": {
      "text/plain": [
       "synthetic         80.701754\n",
       "semi-synthetic    15.789474\n",
       "alkaloid           3.508772\n",
       "Name: class, dtype: float64"
      ]
     },
     "execution_count": 42,
     "metadata": {},
     "output_type": "execute_result"
    }
   ],
   "source": [
    "(df3['class'].value_counts()/df3['class'].count())*100"
   ]
  },
  {
   "cell_type": "code",
   "execution_count": null,
   "metadata": {},
   "outputs": [],
   "source": []
  }
 ],
 "metadata": {
  "kernelspec": {
   "display_name": "Python 3",
   "language": "python",
   "name": "python3"
  },
  "language_info": {
   "codemirror_mode": {
    "name": "ipython",
    "version": 3
   },
   "file_extension": ".py",
   "mimetype": "text/x-python",
   "name": "python",
   "nbconvert_exporter": "python",
   "pygments_lexer": "ipython3",
   "version": "3.7.1"
  }
 },
 "nbformat": 4,
 "nbformat_minor": 2
}
